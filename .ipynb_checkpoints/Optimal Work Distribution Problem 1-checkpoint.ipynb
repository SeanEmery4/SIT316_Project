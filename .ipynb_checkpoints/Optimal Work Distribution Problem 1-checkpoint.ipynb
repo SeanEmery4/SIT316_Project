{
 "cells": [
  {
   "cell_type": "markdown",
   "id": "6e9df101",
   "metadata": {},
   "source": [
    "# World Problems\n",
    "\n",
    "The purpose of this task is to distribute a given number of works amongst several machines. Each machine has an efficiency - time (measured in minutes) to complete each given work. Moreover, each machine requires some time - break between works (in minutes). Data/table is provided as a CSV file in the attachments “WorkDistribution.csv”. \n",
    "<br><br>\n",
    "Your goal is to minimise the total time to complete all works.\n",
    "<br><br>\n",
    "Formulate this as a linear programming problem, solve it by applying different methods and analyse solutions obtained. Discuss and compare the performance of the methods applied."
   ]
  },
  {
   "cell_type": "code",
   "execution_count": 12,
   "id": "2f806a71",
   "metadata": {},
   "outputs": [],
   "source": [
    "# import pulp and pandas\n",
    "from pulp import *\n",
    "import pandas as pd"
   ]
  },
  {
   "cell_type": "markdown",
   "id": "36d112a8",
   "metadata": {},
   "source": [
    "## Setting up data\n",
    "Read in the csv file provided, taking the number of rows as the number of machines, and the number of columns minus 2 (for first column machine headings and last row break times) as the number of work items\n",
    "<br><br>\n",
    "Then assign the data in the csv file to a 2D array to be referenced later and the break times each machine requires"
   ]
  },
  {
   "cell_type": "code",
   "execution_count": 13,
   "id": "2bdc4435",
   "metadata": {},
   "outputs": [],
   "source": [
    "# read in csv file with data\n",
    "df = pd.read_csv('WorkDistribution.csv')\n",
    "\n",
    "# define number of work items and machines to be distributed on\n",
    "n_work = (len(df.columns) - 2)\n",
    "n_machines = len(df)\n",
    "\n",
    "# create an empty 2d array\n",
    "time_taken = [[0 for x in range(n_work)] for y in range(n_machines)]\n",
    "\n",
    "# assign data from dataframe to 2d array\n",
    "for i in range(n_machines):\n",
    "    for j in range(n_work):\n",
    "        time_taken[i][j] = df.iloc[i,j+1]\n",
    "\n",
    "# set up empty break time array for each machine\n",
    "m_break = [0 for x in range(n_machines)]\n",
    "\n",
    "# assign break data from data frame to array\n",
    "for i in range(n_machines):\n",
    "    m_break[i] = df.iloc[i, len(df.columns) - 1]"
   ]
  },
  {
   "cell_type": "markdown",
   "id": "332a1062",
   "metadata": {},
   "source": [
    "## Setting Up LP Problem with PuLP\n",
    "First define the problem as a minimisation problem. Then set up binary variables to determine what work piece is done on what machine, how many breaks are required for each machine and if the machine is used to process work."
   ]
  },
  {
   "cell_type": "code",
   "execution_count": 14,
   "id": "7054972b",
   "metadata": {},
   "outputs": [],
   "source": [
    "# Define the model as minimisation problem\n",
    "op_work_prob = LpProblem(\"Optimal_Work_Distribution\", LpMinimize)"
   ]
  },
  {
   "cell_type": "code",
   "execution_count": 15,
   "id": "76a76f9e",
   "metadata": {},
   "outputs": [],
   "source": [
    "# set up binary variables for work piece i being done on machine j\n",
    "work_1 = LpVariable.dicts('work_1', range(1, n_machines + 1),cat='Binary')\n",
    "work_2 = LpVariable.dicts('work_2', range(1, n_machines + 1),cat='Binary')\n",
    "work_3 = LpVariable.dicts('work_3', range(1, n_machines + 1),cat='Binary')\n",
    "work_4 = LpVariable.dicts('work_4', range(1, n_machines + 1),cat='Binary')\n",
    "work_5 = LpVariable.dicts('work_5', range(1, n_machines + 1),cat='Binary')\n",
    "work_6 = LpVariable.dicts('work_6', range(1, n_machines + 1),cat='Binary')\n",
    "work_7 = LpVariable.dicts('work_7', range(1, n_machines + 1),cat='Binary')\n",
    "work_8 = LpVariable.dicts('work_8', range(1, n_machines + 1),cat='Binary')\n",
    "work_9 = LpVariable.dicts('work_9', range(1, n_machines + 1),cat='Binary')\n",
    "work_10 = LpVariable.dicts('work_10', range(1, n_machines + 1),cat='Binary')\n",
    "work_11 = LpVariable.dicts('work_11', range(1, n_machines + 1),cat='Binary')\n",
    "work_12 = LpVariable.dicts('work_12', range(1, n_machines + 1),cat='Binary')\n",
    "work_13 = LpVariable.dicts('work_13', range(1, n_machines + 1),cat='Binary')\n",
    "work_14 = LpVariable.dicts('work_14', range(1, n_machines + 1),cat='Binary')\n",
    "work_15 = LpVariable.dicts('work_15', range(1, n_machines + 1),cat='Binary')\n",
    "\n",
    "# put all dictionaries in an array\n",
    "work = [work_1, work_2, work_3, work_4, work_5, work_6, work_7, work_8\n",
    "     , work_9, work_10, work_11, work_12, work_13, work_14, work_15]"
   ]
  },
  {
   "cell_type": "code",
   "execution_count": 16,
   "id": "a295e06f",
   "metadata": {},
   "outputs": [],
   "source": [
    "# Set up variabes to determine how many breaks are needed\n",
    "m1_breaks = LpVariable('m1_breaks', cat='Integer', lowBound = 0, upBound = n_work-1)\n",
    "m2_breaks = LpVariable('m2_breaks', cat='Integer', lowBound = 0, upBound = n_work-1)\n",
    "m3_breaks = LpVariable('m3_breaks', cat='Integer', lowBound = 0, upBound = n_work-1)\n",
    "m4_breaks = LpVariable('m4_breaks', cat='Integer', lowBound = 0, upBound = n_work-1)\n",
    "m5_breaks = LpVariable('m5_breaks', cat='Integer', lowBound = 0, upBound = n_work-1)\n",
    "m6_breaks = LpVariable('m6_breaks', cat='Integer', lowBound = 0, upBound = n_work-1)\n",
    "m7_breaks = LpVariable('m7_breaks', cat='Integer', lowBound = 0, upBound = n_work-1)\n",
    "m8_breaks = LpVariable('m8_breaks', cat='Integer', lowBound = 0, upBound = n_work-1)\n",
    "m9_breaks = LpVariable('m9_breaks', cat='Integer', lowBound = 0, upBound = n_work-1)\n",
    "\n",
    "# put all breaks in an array\n",
    "breaks = [m1_breaks, m2_breaks, m3_breaks, m4_breaks, m5_breaks, m6_breaks\n",
    "          , m7_breaks, m8_breaks, m9_breaks]"
   ]
  },
  {
   "cell_type": "code",
   "execution_count": 17,
   "id": "fb2dcaf7",
   "metadata": {},
   "outputs": [],
   "source": [
    "# Set up binary variabes to determine what \n",
    "# machines need to be used\n",
    "m1_used = LpVariable('m1_used', cat='Binary')\n",
    "m2_used = LpVariable('m2_used', cat='Binary')\n",
    "m3_used = LpVariable('m3_used', cat='Binary')\n",
    "m4_used = LpVariable('m4_used', cat='Binary')\n",
    "m5_used = LpVariable('m5_used', cat='Binary')\n",
    "m6_used = LpVariable('m6_used', cat='Binary')\n",
    "m7_used = LpVariable('m7_used', cat='Binary')\n",
    "m8_used = LpVariable('m8_used', cat='Binary')\n",
    "m9_used = LpVariable('m9_used', cat='Binary')"
   ]
  },
  {
   "cell_type": "markdown",
   "id": "cb6e8caa",
   "metadata": {},
   "source": [
    "### Objective function\n",
    "Set up objective function with the sum of each work piece time taken to process by the machine it is assigned to, plus the break time required for each machine."
   ]
  },
  {
   "cell_type": "code",
   "execution_count": 18,
   "id": "4e0e6ef5",
   "metadata": {},
   "outputs": [],
   "source": [
    "# set up objective function looping through all work pieces on all machines\n",
    "# and if the binary value is one multiply it by the time taken to do that work item on that machine\n",
    "# Then loop through each machines breaks required variable and multiply it by the break required on that machine\n",
    "op_work_prob += (lpSum([(work[i][j + 1] * (time_taken[j][i])) for i in range (n_work) for j in range(n_machines)]) +\n",
    "         ((breaks[i] * (m_break[i])) for i in range (n_machines))\n",
    "        ), \"Objective Function\""
   ]
  },
  {
   "cell_type": "markdown",
   "id": "9617fee7",
   "metadata": {},
   "source": [
    "### Constraints\n",
    "First set of constraints is ensuring each work item is only processed on one machine"
   ]
  },
  {
   "cell_type": "code",
   "execution_count": 19,
   "id": "8a4a7bd7",
   "metadata": {},
   "outputs": [],
   "source": [
    "# declare constraints that each work piece is completed once\n",
    "op_work_prob += lpSum([work_1[i] for i in range(1, n_machines + 1)]) == 1, \"work piece 1 done once\"\n",
    "op_work_prob += lpSum([work_2[i] for i in range(1, n_machines + 1)]) == 1, \"work piece 2 done once\"\n",
    "op_work_prob += lpSum([work_3[i] for i in range(1, n_machines + 1)]) == 1, \"work piece 3 done once\"\n",
    "op_work_prob += lpSum([work_4[i] for i in range(1, n_machines + 1)]) == 1, \"work piece 4 done once\"\n",
    "op_work_prob += lpSum([work_5[i] for i in range(1, n_machines + 1)]) == 1, \"work piece 5 done once\"\n",
    "op_work_prob += lpSum([work_6[i] for i in range(1, n_machines + 1)]) == 1, \"work piece 6 done once\"\n",
    "op_work_prob += lpSum([work_7[i] for i in range(1, n_machines + 1)]) == 1, \"work piece 7 done once\"\n",
    "op_work_prob += lpSum([work_8[i] for i in range(1, n_machines + 1)]) == 1, \"work piece 8 done once\"\n",
    "op_work_prob += lpSum([work_9[i] for i in range(1, n_machines + 1)]) == 1, \"work piece 9 done once\"\n",
    "op_work_prob += lpSum([work_10[i] for i in range(1, n_machines + 1)]) == 1, \"work piece 10 done once\"\n",
    "op_work_prob += lpSum([work_11[i] for i in range(1, n_machines + 1)]) == 1, \"work piece 11 done once\"\n",
    "op_work_prob += lpSum([work_12[i] for i in range(1, n_machines + 1)]) == 1, \"work piece 12 done once\"\n",
    "op_work_prob += lpSum([work_13[i] for i in range(1, n_machines + 1)]) == 1, \"work piece 13 done once\"\n",
    "op_work_prob += lpSum([work_14[i] for i in range(1, n_machines + 1)]) == 1, \"work piece 14 done once\"\n",
    "op_work_prob += lpSum([work_15[i] for i in range(1, n_machines + 1)]) == 1, \"work piece 15 done once\""
   ]
  },
  {
   "cell_type": "markdown",
   "id": "dba80023",
   "metadata": {},
   "source": [
    "Second set of constraints determine if each machine is used, this is used to determine how many breaks are required for each machine in the next set of constraints. "
   ]
  },
  {
   "cell_type": "code",
   "execution_count": 20,
   "id": "031deec7",
   "metadata": {},
   "outputs": [],
   "source": [
    "# delcare constraints to set mi_used binary to 1 if work is processed on machine i, 0 otherwise\n",
    "op_work_prob += lpSum([work[i][1] for i in range(n_work)]) >= m1_used, \"if machine 1 if used\"\n",
    "op_work_prob += lpSum([work[i][2] for i in range(n_work)]) >= m2_used, \"if machine 2 if used\"\n",
    "op_work_prob += lpSum([work[i][3] for i in range(n_work)]) >= m3_used, \"if machine 3 if used\"\n",
    "op_work_prob += lpSum([work[i][4] for i in range(n_work)]) >= m4_used, \"if machine 4 if used\"\n",
    "op_work_prob += lpSum([work[i][5] for i in range(n_work)]) >= m5_used, \"if machine 5 if used\"\n",
    "op_work_prob += lpSum([work[i][6] for i in range(n_work)]) >= m6_used, \"if machine 6 if used\"\n",
    "op_work_prob += lpSum([work[i][7] for i in range(n_work)]) >= m7_used, \"if machine 7 if used\"\n",
    "op_work_prob += lpSum([work[i][8] for i in range(n_work)]) >= m8_used, \"if machine 8 if used\"\n",
    "op_work_prob += lpSum([work[i][9] for i in range(n_work)]) >= m9_used, \"if machine 9 if used\""
   ]
  },
  {
   "cell_type": "markdown",
   "id": "0b8b38cb",
   "metadata": {},
   "source": [
    "The third set of constraints determine how many breaks each machine requires. If a machine is required to process 4 work items, it requires 3 breaks, one in between each work item but not at the end. This is as simple as saying the number of breaks required is one less than the number of work pieces processed on that machine. \n",
    "<br><br>\n",
    "However, this forces work on every machine as if a machine is required to process no work, the breaks equates to minus 1, which is not possible as the breaks lower bound is 0. This is where the binary variable for if the machine is used is required. If the machine is used (i.e. binary value is 1) one is added to the number of breaks, equalling the number of jobs ran. If the machine is not used (value is 0), the zero is to the number of breaks. In this way, the number of breaks can equal zero then there is no work processed on the machine."
   ]
  },
  {
   "cell_type": "code",
   "execution_count": 21,
   "id": "5f169a23",
   "metadata": {},
   "outputs": [],
   "source": [
    "# declare constraints that the number of breaks on each machine is one less \n",
    "# than the number of work items carried out on that machine if that machine is used\n",
    "op_work_prob += breaks[0] + (m1_used) == lpSum([work[i][1] for i in range(n_work)]), \"machine 1 breaks required\"\n",
    "op_work_prob += breaks[1] + (m2_used) == lpSum([work[i][2] for i in range(n_work)]), \"machine 2 breaks required\"\n",
    "op_work_prob += breaks[2] + (m3_used) == lpSum([work[i][3] for i in range(n_work)]), \"machine 3 breaks required\"\n",
    "op_work_prob += breaks[3] + (m4_used) == lpSum([work[i][4] for i in range(n_work)]), \"machine 4 breaks required\"\n",
    "op_work_prob += breaks[4] + (m5_used) == lpSum([work[i][5] for i in range(n_work)]), \"machine 5 breaks required\"\n",
    "op_work_prob += breaks[5] + (m6_used) == lpSum([work[i][6] for i in range(n_work)]), \"machine 6 breaks required\"\n",
    "op_work_prob += breaks[6] + (m7_used) == lpSum([work[i][7] for i in range(n_work)]), \"machine 7 breaks required\"\n",
    "op_work_prob += breaks[7] + (m8_used) == lpSum([work[i][8] for i in range(n_work)]), \"machine 8 breaks required\"\n",
    "op_work_prob += breaks[8] + (m9_used) == lpSum([work[i][9] for i in range(n_work)]), \"machine 9 breaks required\""
   ]
  },
  {
   "cell_type": "markdown",
   "id": "6ab81d3a",
   "metadata": {},
   "source": [
    "## Solve the LP Problem\n",
    "The problem is then solved, with each binary value equalling 1 being displayed. From this we can determine which work piece is run on each machine."
   ]
  },
  {
   "cell_type": "code",
   "execution_count": 22,
   "id": "628fd9bc",
   "metadata": {},
   "outputs": [
    {
     "name": "stdout",
     "output_type": "stream",
     "text": [
      "Solution: Optimal\n",
      "\n",
      "Read mi_breaks as the number of breaks required for machine i.\n",
      "Read mi_used machine i is required to process work.\n",
      "Read work_i_j as work piece i is to be proccessed by machine j.\n",
      "Example: work_10_5 means work piece 10 is run on machine 5.\n",
      "\n",
      "m1_breaks: 2\n",
      "m1_used: 1\n",
      "m2_used: 1\n",
      "m3_breaks: 1\n",
      "m3_used: 1\n",
      "m4_used: 1\n",
      "m5_breaks: 3\n",
      "m5_used: 1\n",
      "m6_used: 1\n",
      "m7_used: 1\n",
      "m8_used: 1\n",
      "m9_used: 1\n",
      "work_10_5: 1\n",
      "work_11_1: 1\n",
      "work_12_6: 1\n",
      "work_13_2: 1\n",
      "work_14_4: 1\n",
      "work_15_9: 1\n",
      "work_1_3: 1\n",
      "work_2_5: 1\n",
      "work_3_3: 1\n",
      "work_4_1: 1\n",
      "work_5_5: 1\n",
      "work_6_1: 1\n",
      "work_7_5: 1\n",
      "work_8_8: 1\n",
      "work_9_7: 1\n",
      "\n",
      "Minimum time value (in minutes): 272\n"
     ]
    }
   ],
   "source": [
    "# solve problem and store status\n",
    "status = op_work_prob.solve()\n",
    "\n",
    "# print the status\n",
    "print(f\"Solution: {LpStatus[status]}\\n\")\n",
    "\n",
    "# print instructions of how to read the results\n",
    "print(\"Read mi_breaks as the number of breaks required for machine i.\")\n",
    "print(\"Read mi_used machine i is required to process work.\")\n",
    "print(\"Read work_i_j as work piece i is to be proccessed by machine j.\")\n",
    "print(\"Example: work_10_5 means work piece 10 is run on machine 5.\\n\")\n",
    "\n",
    "# Show the variables that are 1 (i.e. the machine work piece j is run on \n",
    "# and the breaks included)\n",
    "for v in op_work_prob.variables():\n",
    "    if(v.value() >= 1):\n",
    "        print(f\"{v.name}: {v.value()}\")\n",
    "\n",
    "# print the mimimum time taken\n",
    "print(f\"\\nMinimum time value (in minutes): {op_work_prob.objective.value()}\")"
   ]
  }
 ],
 "metadata": {
  "kernelspec": {
   "display_name": "Python 3",
   "language": "python",
   "name": "python3"
  },
  "language_info": {
   "codemirror_mode": {
    "name": "ipython",
    "version": 3
   },
   "file_extension": ".py",
   "mimetype": "text/x-python",
   "name": "python",
   "nbconvert_exporter": "python",
   "pygments_lexer": "ipython3",
   "version": "3.8.8"
  }
 },
 "nbformat": 4,
 "nbformat_minor": 5
}
