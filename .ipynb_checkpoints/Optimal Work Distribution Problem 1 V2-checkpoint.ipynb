{
 "cells": [
  {
   "cell_type": "markdown",
   "id": "6e9df101",
   "metadata": {},
   "source": [
    "## World Problems\n",
    "\n",
    "The purpose of this task is to distribute a given number of works amongst several machines. Each machine has an efficiency - time (measured in minutes) to complete each given work. Moreover, each machine requires some time - break between works (in minutes). Data/table is provided as a CSV file in the attachments “WorkDistribution.csv”. \n",
    "<br><br>\n",
    "Your goal is to minimise the total time to complete all works.\n",
    "<br><br>\n",
    "Formulate this as a linear programming problem, solve it by applying different methods and analyse solutions obtained. Discuss and compare the performance of the methods applied."
   ]
  },
  {
   "cell_type": "code",
   "execution_count": 1,
   "id": "2f806a71",
   "metadata": {},
   "outputs": [],
   "source": [
    "# import pulp needed\n",
    "from pulp import *"
   ]
  },
  {
   "cell_type": "code",
   "execution_count": 2,
   "id": "7054972b",
   "metadata": {},
   "outputs": [],
   "source": [
    "# Define the model as minimisation problem\n",
    "op_work_prob = LpProblem(\"Optimal_Work_Distribution\", LpMinimize)\n",
    "\n",
    "# define number of work items and machines to be distributed on\n",
    "n_work = 15\n",
    "n_machines = 9\n",
    "\n",
    "# define time taken for work piece j being completed on machine i\n",
    "time_taken = [# <---------- work items 1 to 15 ---------->\n",
    "             [10,12,15,13,20,17,33,26,16,21,17,16,18,24,22],   #        ^\n",
    "             [21,20,28,27,35,36,60,48,33,40,30,17,16,18,20],   #        |\n",
    "             [8,14,14,16,23,20,30,24,18,19,19,16,22,28,24],    #        |\n",
    "             [15,17,20,17,32,27,47,34,24,32,25,24,28,18,20],   #        |\n",
    "             [12,12,16,21,15,20,25,32,18,18,22,28,16,18,20],   # machines 1 to 9\n",
    "             [18,26,22,24,42,36,66,45,32,44,31,16,16,18,20],   #        |\n",
    "             [17,16,22,18,22,18,32,26,16,20,25,21,16,18,29],   #        |\n",
    "             [16,18,25,19,26,26,26,21,22,20,19,37,16,29,26],   #        |\n",
    "             [19,28,30,19,22,26,26,34,18,26,19,30,30,19,20]]   #        V\n",
    "\n",
    "# define break required for each machine between work pieces\n",
    "m_break = [5,4,4,5,4,7,6,8,4]"
   ]
  },
  {
   "cell_type": "code",
   "execution_count": 3,
   "id": "76a76f9e",
   "metadata": {},
   "outputs": [],
   "source": [
    "# set up binary variables for work piece i being done on machine j\n",
    "work_1 = LpVariable.dicts('work_1', range(1, n_machines + 1),cat='Binary')\n",
    "work_2 = LpVariable.dicts('work_2', range(1, n_machines + 1),cat='Binary')\n",
    "work_3 = LpVariable.dicts('work_3', range(1, n_machines + 1),cat='Binary')\n",
    "work_4 = LpVariable.dicts('work_4', range(1, n_machines + 1),cat='Binary')\n",
    "work_5 = LpVariable.dicts('work_5', range(1, n_machines + 1),cat='Binary')\n",
    "work_6 = LpVariable.dicts('work_6', range(1, n_machines + 1),cat='Binary')\n",
    "work_7 = LpVariable.dicts('work_7', range(1, n_machines + 1),cat='Binary')\n",
    "work_8 = LpVariable.dicts('work_8', range(1, n_machines + 1),cat='Binary')\n",
    "work_9 = LpVariable.dicts('work_9', range(1, n_machines + 1),cat='Binary')\n",
    "work_10 = LpVariable.dicts('work_10', range(1, n_machines + 1),cat='Binary')\n",
    "work_11 = LpVariable.dicts('work_11', range(1, n_machines + 1),cat='Binary')\n",
    "work_12 = LpVariable.dicts('work_12', range(1, n_machines + 1),cat='Binary')\n",
    "work_13 = LpVariable.dicts('work_13', range(1, n_machines + 1),cat='Binary')\n",
    "work_14 = LpVariable.dicts('work_14', range(1, n_machines + 1),cat='Binary')\n",
    "work_15 = LpVariable.dicts('work_15', range(1, n_machines + 1),cat='Binary')\n",
    "\n",
    "# put all dictionaries in an array\n",
    "work = [work_1, work_2, work_3, work_4, work_5, work_6, work_7, work_8\n",
    "     , work_9, work_10, work_11, work_12, work_13, work_14, work_15]"
   ]
  },
  {
   "cell_type": "code",
   "execution_count": 4,
   "id": "a295e06f",
   "metadata": {},
   "outputs": [],
   "source": [
    "# Set up binary variabes to determine if a break needs to be added\n",
    "m1_break = LpVariable.dicts('m1_break', range(1, n_work + 1),cat='Binary')\n",
    "m2_break = LpVariable.dicts('m2_break', range(1, n_work + 1),cat='Binary')\n",
    "m3_break = LpVariable.dicts('m3_break', range(1, n_work + 1),cat='Binary')\n",
    "m4_break = LpVariable.dicts('m4_break', range(1, n_work + 1),cat='Binary')\n",
    "m5_break = LpVariable.dicts('m5_break', range(1, n_work + 1),cat='Binary')\n",
    "m6_break = LpVariable.dicts('m6_break', range(1, n_work + 1),cat='Binary')\n",
    "m7_break = LpVariable.dicts('m7_break', range(1, n_work + 1),cat='Binary')\n",
    "m8_break = LpVariable.dicts('m8_break', range(1, n_work + 1),cat='Binary')\n",
    "m9_break = LpVariable.dicts('m9_break', range(1, n_work + 1),cat='Binary')\n",
    "\n",
    "# put all breaks in an array\n",
    "breaks = [m1_break, m2_break, m3_break, m4_break, m5_break, m6_break, m7_break, m8_break, m9_break]"
   ]
  },
  {
   "cell_type": "code",
   "execution_count": 5,
   "id": "fb2dcaf7",
   "metadata": {},
   "outputs": [],
   "source": [
    "# Set up binary variabes to determine what machines need to be used\n",
    "m1_used = LpVariable('m1_used', cat='Binary')\n",
    "m2_used = LpVariable('m2_used', cat='Binary')\n",
    "m3_used = LpVariable('m3_used', cat='Binary')\n",
    "m4_used = LpVariable('m4_used', cat='Binary')\n",
    "m5_used = LpVariable('m5_used', cat='Binary')\n",
    "m6_used = LpVariable('m6_used', cat='Binary')\n",
    "m7_used = LpVariable('m7_used', cat='Binary')\n",
    "m8_used = LpVariable('m8_used', cat='Binary')\n",
    "m9_used = LpVariable('m9_used', cat='Binary')"
   ]
  },
  {
   "cell_type": "code",
   "execution_count": 6,
   "id": "4e0e6ef5",
   "metadata": {},
   "outputs": [],
   "source": [
    "# set up objective function looping through all work pieces on all machines\n",
    "# and if the binary value is one multiply it by the time taken to do that work item on that machine\n",
    "# Then loop through each break variable and if the binary value is one \n",
    "# multiply it by the break required on that machine\n",
    "op_work_prob += (lpSum([(work[i][j + 1] * (time_taken[j][i])) for i in range (n_work) for j in range(n_machines)]) +\n",
    "         lpSum([(breaks[i][j + 1] * (m_break[i])) for i in range (n_machines) for j in range(n_work)])\n",
    "        ), \"Objective Function\""
   ]
  },
  {
   "cell_type": "code",
   "execution_count": 8,
   "id": "8a4a7bd7",
   "metadata": {},
   "outputs": [],
   "source": [
    "# declare constraints that each work piece is completed once\n",
    "op_work_prob += lpSum([work_1[i] for i in range(1, n_machines + 1)]) == 1, \"work piece 1 done once\"\n",
    "op_work_prob += lpSum([work_2[i] for i in range(1, n_machines + 1)]) == 1, \"work piece 2 done once\"\n",
    "op_work_prob += lpSum([work_3[i] for i in range(1, n_machines + 1)]) == 1, \"work piece 3 done once\"\n",
    "op_work_prob += lpSum([work_4[i] for i in range(1, n_machines + 1)]) == 1, \"work piece 4 done once\"\n",
    "op_work_prob += lpSum([work_5[i] for i in range(1, n_machines + 1)]) == 1, \"work piece 5 done once\"\n",
    "op_work_prob += lpSum([work_6[i] for i in range(1, n_machines + 1)]) == 1, \"work piece 6 done once\"\n",
    "op_work_prob += lpSum([work_7[i] for i in range(1, n_machines + 1)]) == 1, \"work piece 7 done once\"\n",
    "op_work_prob += lpSum([work_8[i] for i in range(1, n_machines + 1)]) == 1, \"work piece 8 done once\"\n",
    "op_work_prob += lpSum([work_9[i] for i in range(1, n_machines + 1)]) == 1, \"work piece 9 done once\"\n",
    "op_work_prob += lpSum([work_10[i] for i in range(1, n_machines + 1)]) == 1, \"work piece 10 done once\"\n",
    "op_work_prob += lpSum([work_11[i] for i in range(1, n_machines + 1)]) == 1, \"work piece 11 done once\"\n",
    "op_work_prob += lpSum([work_12[i] for i in range(1, n_machines + 1)]) == 1, \"work piece 12 done once\"\n",
    "op_work_prob += lpSum([work_13[i] for i in range(1, n_machines + 1)]) == 1, \"work piece 13 done once\"\n",
    "op_work_prob += lpSum([work_14[i] for i in range(1, n_machines + 1)]) == 1, \"work piece 14 done once\"\n",
    "op_work_prob += lpSum([work_15[i] for i in range(1, n_machines + 1)]) == 1, \"work piece 15 done once\""
   ]
  },
  {
   "cell_type": "code",
   "execution_count": 9,
   "id": "031deec7",
   "metadata": {},
   "outputs": [],
   "source": [
    "# delcare constraints to set mi_used binary to 1 if work is processed on machine i, 0 otherwise\n",
    "op_work_prob += lpSum([work[i][1] for i in range(n_work)]) >= m1_used, \"if machine 1 if used\"\n",
    "op_work_prob += lpSum([work[i][2] for i in range(n_work)]) >= m2_used, \"if machine 2 if used\"\n",
    "op_work_prob += lpSum([work[i][3] for i in range(n_work)]) >= m3_used, \"if machine 3 if used\"\n",
    "op_work_prob += lpSum([work[i][4] for i in range(n_work)]) >= m4_used, \"if machine 4 if used\"\n",
    "op_work_prob += lpSum([work[i][5] for i in range(n_work)]) >= m5_used, \"if machine 5 if used\"\n",
    "op_work_prob += lpSum([work[i][6] for i in range(n_work)]) >= m6_used, \"if machine 6 if used\"\n",
    "op_work_prob += lpSum([work[i][7] for i in range(n_work)]) >= m7_used, \"if machine 7 if used\"\n",
    "op_work_prob += lpSum([work[i][8] for i in range(n_work)]) >= m8_used, \"if machine 8 if used\"\n",
    "op_work_prob += lpSum([work[i][9] for i in range(n_work)]) >= m9_used, \"if machine 9 if used\""
   ]
  },
  {
   "cell_type": "code",
   "execution_count": 10,
   "id": "5f169a23",
   "metadata": {},
   "outputs": [],
   "source": [
    "# declare constraints that the number of breaks on each machine is one less \n",
    "# than the number of work items carried out on that machine if that machine is used\n",
    "op_work_prob += lpSum([breaks[0][i] for i in range(1, n_work + 1)]) + (m1_used * 1) == lpSum([work[i][1] for i in range(n_work)]), \"machine 1 breaks required\"\n",
    "op_work_prob += lpSum([breaks[1][i] for i in range(1, n_work + 1)]) + (m2_used * 1) == lpSum([work[i][2] for i in range(n_work)]), \"machine 2 breaks required\"\n",
    "op_work_prob += lpSum([breaks[2][i] for i in range(1, n_work + 1)]) + (m3_used * 1) == lpSum([work[i][3] for i in range(n_work)]), \"machine 3 breaks required\"\n",
    "op_work_prob += lpSum([breaks[3][i] for i in range(1, n_work + 1)]) + (m4_used * 1) == lpSum([work[i][4] for i in range(n_work)]), \"machine 4 breaks required\"\n",
    "op_work_prob += lpSum([breaks[4][i] for i in range(1, n_work + 1)]) + (m5_used * 1) == lpSum([work[i][5] for i in range(n_work)]), \"machine 5 breaks required\"\n",
    "op_work_prob += lpSum([breaks[5][i] for i in range(1, n_work + 1)]) + (m6_used * 1) == lpSum([work[i][6] for i in range(n_work)]), \"machine 6 breaks required\"\n",
    "op_work_prob += lpSum([breaks[6][i] for i in range(1, n_work + 1)]) + (m7_used * 1) == lpSum([work[i][7] for i in range(n_work)]), \"machine 7 breaks required\"\n",
    "op_work_prob += lpSum([breaks[7][i] for i in range(1, n_work + 1)]) + (m8_used * 1) == lpSum([work[i][8] for i in range(n_work)]), \"machine 8 breaks required\"\n",
    "op_work_prob += lpSum([breaks[8][i] for i in range(1, n_work + 1)]) + (m9_used * 1) == lpSum([work[i][9] for i in range(n_work)]), \"machine 9 breaks required\""
   ]
  },
  {
   "cell_type": "code",
   "execution_count": 12,
   "id": "628fd9bc",
   "metadata": {},
   "outputs": [
    {
     "name": "stdout",
     "output_type": "stream",
     "text": [
      "Solution: Optimal\n",
      "\n",
      "Read mi_break_x as 1 break for machine i. mi_break_x appearing twice means machine i requires two breaks.\n",
      "Read mi_used machine i is required to process work.\n",
      "Read work_i_j as work piece i is to be proccessed by machine j.\n",
      "Example: work_10_5 means work piece 10 is run on machine 5.\n",
      "\n",
      "m1_break_1: 1\n",
      "m1_break_10: 1\n",
      "m1_used: 1\n",
      "m2_used: 1\n",
      "m3_break_1: 1\n",
      "m3_used: 1\n",
      "m4_used: 1\n",
      "m5_break_1: 1\n",
      "m5_break_10: 1\n",
      "m5_break_11: 1\n",
      "m5_used: 1\n",
      "m6_used: 1\n",
      "m7_used: 1\n",
      "m8_used: 1\n",
      "m9_used: 1\n",
      "work_10_5: 1\n",
      "work_11_1: 1\n",
      "work_12_6: 1\n",
      "work_13_2: 1\n",
      "work_14_4: 1\n",
      "work_15_9: 1\n",
      "work_1_3: 1\n",
      "work_2_5: 1\n",
      "work_3_3: 1\n",
      "work_4_1: 1\n",
      "work_5_5: 1\n",
      "work_6_1: 1\n",
      "work_7_5: 1\n",
      "work_8_8: 1\n",
      "work_9_7: 1\n",
      "\n",
      "Minimum time value (in minutes): 272\n"
     ]
    }
   ],
   "source": [
    "# solve problem and store status\n",
    "status = op_work_prob.solve()\n",
    "\n",
    "# print the status\n",
    "print(f\"Solution: {LpStatus[status]}\\n\")\n",
    "\n",
    "# print instructions of how to read the results\n",
    "print(\"Read mi_break_x as 1 break for machine i. mi_break_x appearing twice means machine i requires two breaks.\")\n",
    "print(\"Read mi_used machine i is required to process work.\")\n",
    "print(\"Read work_i_j as work piece i is to be proccessed by machine j.\")\n",
    "print(\"Example: work_10_5 means work piece 10 is run on machine 5.\\n\")\n",
    "\n",
    "# Show the variables that are 1 (i.e. the machine work piece j is run on and the breaks included)\n",
    "for v in op_work_prob.variables():\n",
    "    if(v.value() == 1):\n",
    "        print(f\"{v.name}: {v.value()}\")\n",
    "\n",
    "# print the mimimum time taken\n",
    "print(f\"\\nMinimum time value (in minutes): {op_work_prob.objective.value()}\")"
   ]
  },
  {
   "cell_type": "code",
   "execution_count": null,
   "id": "e317b0f8",
   "metadata": {},
   "outputs": [],
   "source": []
  }
 ],
 "metadata": {
  "kernelspec": {
   "display_name": "Python 3",
   "language": "python",
   "name": "python3"
  },
  "language_info": {
   "codemirror_mode": {
    "name": "ipython",
    "version": 3
   },
   "file_extension": ".py",
   "mimetype": "text/x-python",
   "name": "python",
   "nbconvert_exporter": "python",
   "pygments_lexer": "ipython3",
   "version": "3.8.8"
  }
 },
 "nbformat": 4,
 "nbformat_minor": 5
}
