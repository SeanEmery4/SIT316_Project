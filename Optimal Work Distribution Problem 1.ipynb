{
 "cells": [
  {
   "cell_type": "markdown",
   "id": "6e9df101",
   "metadata": {},
   "source": [
    "## World Problems\n",
    "\n",
    "The purpose of this task is to distribute a given number of works amongst several machines. Each machine has an efficiency - time (measured in minutes) to complete each given work. Moreover, each machine requires some time - break between works (in minutes). Data/table is provided as a CSV file in the attachments “WorkDistribution.csv”. \n",
    "<br><br>\n",
    "Your goal is to minimise the total time to complete all works.\n",
    "<br><br>\n",
    "Formulate this as a linear programming problem, solve it by applying different methods and analyse solutions obtained. Discuss and compare the performance of the methods applied."
   ]
  },
  {
   "cell_type": "code",
   "execution_count": 1,
   "id": "2f806a71",
   "metadata": {},
   "outputs": [],
   "source": [
    "# import pulp needed\n",
    "from pulp import *"
   ]
  },
  {
   "cell_type": "code",
   "execution_count": 2,
   "id": "7054972b",
   "metadata": {},
   "outputs": [],
   "source": [
    "# Define the model as minimisation problem\n",
    "prob = LpProblem(\"OptimalWorkDistribution\", LpMinimize)\n",
    "\n",
    "# define number of work items and machines to be distributed on\n",
    "n_work = 15\n",
    "n_machines = 9\n",
    "\n",
    "# define time taken for work piece j being completed on machine i\n",
    "time_taken = [# <---------- work items 1 to 15 ---------->\n",
    "             [10,12,15,13,20,17,33,26,16,21,17,16,18,24,22],   #        ^\n",
    "             [21,20,28,27,35,36,60,48,33,40,30,17,16,18,20],   #        |\n",
    "             [8,14,14,16,23,20,30,24,18,19,19,16,22,28,24],    #        |\n",
    "             [15,17,20,17,32,27,47,34,24,32,25,24,28,18,20],   #        |\n",
    "             [12,12,16,21,15,20,25,32,18,18,22,28,16,18,20],   # machines 1 to 9\n",
    "             [18,26,22,24,42,36,66,45,32,44,31,16,16,18,20],   #        |\n",
    "             [17,16,22,18,22,18,32,26,16,20,25,21,16,18,29],   #        |\n",
    "             [16,18,25,19,26,26,26,21,22,20,19,37,16,29,26],   #        |\n",
    "             [19,28,30,19,22,26,26,34,18,26,19,30,30,19,20]]   #        V\n",
    "\n",
    "# define break required for each machine between work pieces\n",
    "m_break = [5,4,4,5,4,7,6,8,4]"
   ]
  },
  {
   "cell_type": "code",
   "execution_count": 3,
   "id": "76a76f9e",
   "metadata": {},
   "outputs": [],
   "source": [
    "# set up binary variables for work piece i being done on machine j\n",
    "w1 = LpVariable.dicts('w1', range(1, n_machines + 1),cat='Binary')\n",
    "w2 = LpVariable.dicts('w2', range(1, n_machines + 1),cat='Binary')\n",
    "w3 = LpVariable.dicts('w3', range(1, n_machines + 1),cat='Binary')\n",
    "w4 = LpVariable.dicts('w4', range(1, n_machines + 1),cat='Binary')\n",
    "w5 = LpVariable.dicts('w5', range(1, n_machines + 1),cat='Binary')\n",
    "w6 = LpVariable.dicts('w6', range(1, n_machines + 1),cat='Binary')\n",
    "w7 = LpVariable.dicts('w7', range(1, n_machines + 1),cat='Binary')\n",
    "w8 = LpVariable.dicts('w8', range(1, n_machines + 1),cat='Binary')\n",
    "w9 = LpVariable.dicts('w9', range(1, n_machines + 1),cat='Binary')\n",
    "w10 = LpVariable.dicts('w10', range(1, n_machines + 1),cat='Binary')\n",
    "w11 = LpVariable.dicts('w11', range(1, n_machines + 1),cat='Binary')\n",
    "w12 = LpVariable.dicts('w12', range(1, n_machines + 1),cat='Binary')\n",
    "w13 = LpVariable.dicts('w13', range(1, n_machines + 1),cat='Binary')\n",
    "w14 = LpVariable.dicts('w14', range(1, n_machines + 1),cat='Binary')\n",
    "w15 = LpVariable.dicts('w15', range(1, n_machines + 1),cat='Binary')\n",
    "\n",
    "# put all dictionaries in an array\n",
    "w = [w1, w2, w3, w4, w5, w6, w7, w8, w9, w10, w11, w12, w13, w14, w15]   "
   ]
  },
  {
   "cell_type": "code",
   "execution_count": 4,
   "id": "a295e06f",
   "metadata": {},
   "outputs": [],
   "source": [
    "# Set up binary variabes to determine if a break needs to be added\n",
    "b1 = LpVariable.dicts('b1', range(1, n_work + 1),cat='Binary')\n",
    "b2 = LpVariable.dicts('b2', range(1, n_work + 1),cat='Binary')\n",
    "b3 = LpVariable.dicts('b3', range(1, n_work + 1),cat='Binary')\n",
    "b4 = LpVariable.dicts('b4', range(1, n_work + 1),cat='Binary')\n",
    "b5 = LpVariable.dicts('b5', range(1, n_work + 1),cat='Binary')\n",
    "b6 = LpVariable.dicts('b6', range(1, n_work + 1),cat='Binary')\n",
    "b7 = LpVariable.dicts('b7', range(1, n_work + 1),cat='Binary')\n",
    "b8 = LpVariable.dicts('b8', range(1, n_work + 1),cat='Binary')\n",
    "b9 = LpVariable.dicts('b9', range(1, n_work + 1),cat='Binary')\n",
    "\n",
    "b = [b1, b2, b3, b4, b5, b6, b7, b8, b9]"
   ]
  },
  {
   "cell_type": "code",
   "execution_count": 5,
   "id": "4e0e6ef5",
   "metadata": {},
   "outputs": [],
   "source": [
    "# set up objective function looping through all work pieces on all machines\n",
    "# and if the binary value is one multiply it by the time taken to do that work item on that machine\n",
    "# Then loop through each break variable and if the binary value is one \n",
    "# multiply it by the break required on that machine\n",
    "prob += (lpSum([(w[i][j + 1] * (time_taken[j][i])) for i in range (n_work) for j in range(n_machines)]) +\n",
    "         lpSum([(b[i][j + 1] * (m_break[i])) for i in range (n_machines) for j in range(n_work)])\n",
    "        ), \"Objective Function\""
   ]
  },
  {
   "cell_type": "code",
   "execution_count": 6,
   "id": "8a4a7bd7",
   "metadata": {},
   "outputs": [],
   "source": [
    "# declare constraints that each work piece is completed once\n",
    "prob += lpSum([w1[i] for i in range(1, n_machines + 1)]) == 1, \"work piece 1 done once\"\n",
    "prob += lpSum([w2[i] for i in range(1, n_machines + 1)]) == 1, \"work piece 2 done once\"\n",
    "prob += lpSum([w3[i] for i in range(1, n_machines + 1)]) == 1, \"work piece 3 done once\"\n",
    "prob += lpSum([w4[i] for i in range(1, n_machines + 1)]) == 1, \"work piece 4 done once\"\n",
    "prob += lpSum([w5[i] for i in range(1, n_machines + 1)]) == 1, \"work piece 5 done once\"\n",
    "prob += lpSum([w6[i] for i in range(1, n_machines + 1)]) == 1, \"work piece 6 done once\"\n",
    "prob += lpSum([w7[i] for i in range(1, n_machines + 1)]) == 1, \"work piece 7 done once\"\n",
    "prob += lpSum([w8[i] for i in range(1, n_machines + 1)]) == 1, \"work piece 8 done once\"\n",
    "prob += lpSum([w9[i] for i in range(1, n_machines + 1)]) == 1, \"work piece 9 done once\"\n",
    "prob += lpSum([w10[i] for i in range(1, n_machines + 1)]) == 1, \"work piece 10 done once\"\n",
    "prob += lpSum([w11[i] for i in range(1, n_machines + 1)]) == 1, \"work piece 11 done once\"\n",
    "prob += lpSum([w12[i] for i in range(1, n_machines + 1)]) == 1, \"work piece 12 done once\"\n",
    "prob += lpSum([w13[i] for i in range(1, n_machines + 1)]) == 1, \"work piece 13 done once\"\n",
    "prob += lpSum([w14[i] for i in range(1, n_machines + 1)]) == 1, \"work piece 14 done once\"\n",
    "prob += lpSum([w15[i] for i in range(1, n_machines + 1)]) == 1, \"work piece 15 done once\""
   ]
  },
  {
   "cell_type": "code",
   "execution_count": 7,
   "id": "5f169a23",
   "metadata": {},
   "outputs": [],
   "source": [
    "# declare constraints that the number of breaks on each machine is one less \n",
    "# than the number of work items carried out on that machine\n",
    "prob += lpSum([b[0][i] for i in range(1, n_work + 1)]) + 1 == lpSum([w[i][1] for i in range(n_work)]), \"machine 1 breaks required\"\n",
    "prob += lpSum([b[1][i] for i in range(1, n_work + 1)]) + 1 == lpSum([w[i][2] for i in range(n_work)]), \"machine 2 breaks required\"\n",
    "prob += lpSum([b[2][i] for i in range(1, n_work + 1)]) + 1 == lpSum([w[i][3] for i in range(n_work)]), \"machine 3 breaks required\"\n",
    "prob += lpSum([b[3][i] for i in range(1, n_work + 1)]) + 1 == lpSum([w[i][4] for i in range(n_work)]), \"machine 4 breaks required\"\n",
    "prob += lpSum([b[4][i] for i in range(1, n_work + 1)]) + 1 == lpSum([w[i][5] for i in range(n_work)]), \"machine 5 breaks required\"\n",
    "prob += lpSum([b[5][i] for i in range(1, n_work + 1)]) + 1 == lpSum([w[i][6] for i in range(n_work)]), \"machine 6 breaks required\"\n",
    "prob += lpSum([b[6][i] for i in range(1, n_work + 1)]) + 1 == lpSum([w[i][7] for i in range(n_work)]), \"machine 7 breaks required\"\n",
    "prob += lpSum([b[7][i] for i in range(1, n_work + 1)]) + 1 == lpSum([w[i][8] for i in range(n_work)]), \"machine 8 breaks required\"\n",
    "prob += lpSum([b[8][i] for i in range(1, n_work + 1)]) + 1 == lpSum([w[i][9] for i in range(n_work)]), \"machine 9 breaks required\""
   ]
  },
  {
   "cell_type": "code",
   "execution_count": 8,
   "id": "628fd9bc",
   "metadata": {},
   "outputs": [
    {
     "name": "stdout",
     "output_type": "stream",
     "text": [
      "Solution: Optimal\n",
      "\n",
      "Read w1_3 as Work piece 1 carried out on machine 3\n",
      "Read b1_x as machine 1 takes requires break. Three b5_x means machine 5 requires three breaks\n",
      "\n",
      "b1_1: 1\n",
      "b1_9: 1\n",
      "b3_1: 1\n",
      "b5_1: 1\n",
      "b5_10: 1\n",
      "b5_9: 1\n",
      "w10_5: 1\n",
      "w11_1: 1\n",
      "w12_6: 1\n",
      "w13_2: 1\n",
      "w14_4: 1\n",
      "w15_9: 1\n",
      "w1_3: 1\n",
      "w2_5: 1\n",
      "w3_3: 1\n",
      "w4_1: 1\n",
      "w5_5: 1\n",
      "w6_1: 1\n",
      "w7_5: 1\n",
      "w8_8: 1\n",
      "w9_7: 1\n",
      "\n",
      "Minimum time value (in minutes): 272\n"
     ]
    }
   ],
   "source": [
    "# solve problem and store status\n",
    "status = prob.solve()\n",
    "\n",
    "# print the status\n",
    "print(f\"Solution: {LpStatus[status]}\\n\")\n",
    "\n",
    "# print instructions of how to read the results\n",
    "print(\"Read w1_3 as Work piece 1 carried out on machine 3\")\n",
    "print(\"Read b1_x as machine 1 takes requires break. Three b5_x means machine 5 requires three breaks\\n\")\n",
    "\n",
    "# Show the variables that are 1 (i.e. the machine work piece j is run on and the breaks included)\n",
    "for v in prob.variables():\n",
    "    if(v.value() == 1):\n",
    "        print(f\"{v.name}: {v.value()}\")\n",
    "\n",
    "# print the mimimum time taken\n",
    "print(f\"\\nMinimum time value (in minutes): {prob.objective.value()}\")"
   ]
  }
 ],
 "metadata": {
  "kernelspec": {
   "display_name": "Python 3",
   "language": "python",
   "name": "python3"
  },
  "language_info": {
   "codemirror_mode": {
    "name": "ipython",
    "version": 3
   },
   "file_extension": ".py",
   "mimetype": "text/x-python",
   "name": "python",
   "nbconvert_exporter": "python",
   "pygments_lexer": "ipython3",
   "version": "3.8.8"
  }
 },
 "nbformat": 4,
 "nbformat_minor": 5
}
